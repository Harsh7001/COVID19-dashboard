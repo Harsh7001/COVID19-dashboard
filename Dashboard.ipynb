{
 "cells": [
  {
   "cell_type": "markdown",
   "metadata": {},
   "source": [
    "[DIY Covid-19 Dashboard Kit](https://github.com/fsmeraldi/diy-covid19dash) (C) Fabrizio Smeraldi, 2020 ([f.smeraldi@qmul.ac.uk](mailto:f.smeraldi@qmul.ac.uk) - [web](http://www.eecs.qmul.ac.uk/~fabri/)). This notebook is released under the [GNU GPLv3.0 or later](https://www.gnu.org/licenses/)."
   ]
  },
  {
   "cell_type": "markdown",
   "metadata": {},
   "source": [
    "# DIY Covid-19 Dashboard"
   ]
  },
  {
   "cell_type": "markdown",
   "metadata": {},
   "source": [
    "\"Welcome to the COVID-19 Dashboard – a comprehensive tool for tracking vital statistics related to the ongoing pandemic. This dashboard is designed to provide real-time insights into crucial aspects, specifically emphasizing 'New Vaccines,' 'Hospital Data,' and 'Cumulative Deaths.'\n",
    "\n",
    "New Vaccines: Stay informed about the latest updates on COVID-19 vaccination efforts. Track the number of new vaccines administered, contributing to the collective effort to curb the spread of the virus.\n",
    "\n",
    "Hospital Data: Monitor the current status of hospitals, including bed occupancy, ICU availability, and other critical metrics. This section aims to provide a snapshot of the healthcare infrastructure's resilience and capacity to manage COVID-19 cases.\n",
    "\n",
    "Cumulative Deaths: Understand the broader impact of the pandemic by exploring cumulative death statistics. This section offers a comprehensive view of the toll the virus has taken over time.\n",
    "\n",
    "To enhance your experience, this dashboard leverages Voila, a powerful Python dashboarding tool. Voila runs all cells in the notebook, creating an interactive and dynamic user interface while keeping the code running in the background.\n",
    "\n",
    "Explore the dashboard by clicking here. Stay informed, stay safe.\""
   ]
  },
  {
   "cell_type": "code",
   "execution_count": 4,
   "metadata": {},
   "outputs": [],
   "source": [
    "from IPython.display import clear_output\n",
    "import ipywidgets as wdg\n",
    "import pandas as pd\n",
    "import numpy as np\n",
    "import matplotlib.pyplot as plt\n",
    "import json\n",
    "from uk_covid19 import Cov19API"
   ]
  },
  {
   "cell_type": "code",
   "execution_count": 5,
   "metadata": {},
   "outputs": [],
   "source": [
    "%matplotlib inline\n",
    "# make figures larger\n",
    "plt.rcParams['figure.dpi'] = 100"
   ]
  },
  {
   "cell_type": "markdown",
   "metadata": {},
   "source": [
    "## Loading Canned Data:\n",
    "\n",
    "To ensure a seamless and informative experience, we've incorporated 'canned' data directly into the dashboard. This data, which represents a snapshot of pandemic-related statistics, is loaded behind the scenes when the d"
   ]
  },
  {
   "cell_type": "code",
   "execution_count": 14,
   "metadata": {
    "scrolled": true
   },
   "outputs": [],
   "source": [
    "# Load JSON files and store the raw data in some variable. Edit as appropriate\n",
    "jsondata= {}\n",
    "with open(\"vaccines_and_deaths.json\", \"r\") as INFILE:\n",
    "    data=json.load(INFILE)\n"
   ]
  },
  {
   "cell_type": "markdown",
   "metadata": {},
   "source": [
    "## Wrangle the data\n",
    "\n",
    "The dashboard contains the logic to wrangle the raw data into a ```DataFrame``` (or more than one, as required) that will be used for plotting. The wrangling code should be put into a function and called on the data from the JSON file (we'll need to call it again on any data downloaded from the API).  In this template, we just pretend we are wrangling ```rawdata``` and generate a dataframe with some random data"
   ]
  },
  {
   "cell_type": "code",
   "execution_count": 7,
   "metadata": {},
   "outputs": [],
   "source": [
    "def parse_date(datestring):\n",
    "    \"\"\" Convert a date string into a pandas datetime object \"\"\"\n",
    "    return pd.to_datetime(datestring, format=\"%Y-%m-%d\")\n",
    "    \n",
    "\n",
    "def wrangle_data(rawdata):\n",
    "    \"\"\" Parameters: rawdata - data from json file or API call. Returns a dataframe.\n",
    "    Edit to include the code that wrangles the data, creates the dataframe and fills it in. \"\"\"\n",
    "    \n",
    "   \n",
    "    datalist=data['data']\n",
    "    \n",
    "    dates=[dictionary['date'] for dictionary in datalist ]\n",
    "    dates.sort()\n",
    "  \n",
    " \n",
    "    startdate=parse_date(dates[0])\n",
    "    enddate=parse_date(dates[-1])\n",
    " \n",
    "    index=pd.date_range(startdate, enddate, freq='D')\n",
    "    vaccines_and_deathsdf=pd.DataFrame(index=index, columns=['new vaccines', 'hospital', 'cumulative deaths'])\n",
    "   \n",
    "    for entry in datalist: # each entry is a dictionary with date, cases, hospital and deaths\n",
    "        date=parse_date(entry['date'])\n",
    "        for column in ['new vaccines', 'hospital', 'cumulative deaths']:\n",
    "            # check that nothing is there yet - just in case some dates are duplicated,\n",
    "            # maybe with data for different columns in each entry\n",
    "            if pd.isna(vaccines_and_deathsdf.loc[date, column]): \n",
    "                # replace None with 0 in our data \n",
    "                value= float(entry[column]) if entry[column]!=None else 0.0\n",
    "                # this is the way you access a specific location in the dataframe - use .loc\n",
    "                # and put index,column in a single set of [ ]\n",
    "                vaccines_and_deathsdf.loc[date, column]=value\n",
    "                \n",
    "    # fill in any remaining \"holes\" due to missing dates\n",
    "    vaccines_and_deathsdf.fillna(0.0, inplace=True)\n",
    "                \n",
    "    return vaccines_and_deathsdf\n",
    "\n",
    "\n",
    "# putting the wrangling code into a function allows you to call it again after refreshing the data through \n",
    "# the API. You should call the function directly on the JSON data when the dashboard starts, by including \n",
    "# the call in the cell as below:\n",
    "vaccines_and_deathsdf=wrangle_data(data) # df is the dataframe for plotting\n",
    "\n"
   ]
  },
  {
   "cell_type": "markdown",
   "metadata": {},
   "source": []
  },
  {
   "cell_type": "markdown",
   "metadata": {},
   "source": []
  },
  {
   "cell_type": "code",
   "execution_count": 16,
   "metadata": {},
   "outputs": [],
   "source": [
    "# Place your API access code in this function. Do not call this function directly; it will be called by \n",
    "# the button callback. \n",
    "def access_api(button):\n",
    "    \n",
    "    filters = [\n",
    "        'areaType=overview', # note each metric-value pair is inside one string\n",
    "    ]\n",
    "\n",
    "    # values here are the names of the PHE metrics\n",
    "    structure = {\n",
    "        \"date\": \"date\",\n",
    "        \"new vaccines\": \"newVaccinesGivenByPublishDate\",\n",
    "        \"hospital\": \"newAdmissionsRollingRate\",\n",
    "        \"cumulative deaths\": \"newDailyNsoDeathsByDeathDate\" \n",
    "        }\n",
    "    \n",
    "    api = Cov19API(filters=filters, structure=structure)\n",
    "    \n",
    "    vaccines_and_deaths=api.get_json()\n",
    "    apibutton.icon=\"check\"\n",
    "    apibutton.disabled=True\n",
    "\n",
    "\n",
    "\n",
    "    return {} # return data read from the AP"
   ]
  },
  {
   "cell_type": "code",
   "execution_count": 15,
   "metadata": {},
   "outputs": [
    {
     "data": {
      "application/vnd.jupyter.widget-view+json": {
       "model_id": "eb1074cf78904e12ada41f8d908e77ea",
       "version_major": 2,
       "version_minor": 0
      },
      "text/plain": [
       "Button(description='Refresh data', icon='download', style=ButtonStyle(), tooltip='Click to download current Pu…"
      ]
     },
     "metadata": {},
     "output_type": "display_data"
    }
   ],
   "source": [
    "# Printout from this function will be lost in Voila unless captured in an\n",
    "# output widget - therefore, we give feedback to the user by changing the \n",
    "# appearance of the button\n",
    "def apibutton(button):\n",
    "    \"\"\" Button callback - it must take the button as its parameter (unused in this case).\n",
    "    Accesses API, wrangles data, updates global variable df used for plotting. \"\"\"\n",
    "    # Get fresh data from the API. If you have time, include some error handling\n",
    "    # around this call.\n",
    "    # wrangle the data and overwrite the dataframe for plotting\n",
    "    global df\n",
    "    df=wrangle_data(apidata)\n",
    "# the graph won't refresh until the user interacts with the widget.\n",
    "# this function simulates the interaction, see Graph and Analysis below.\n",
    "# you can omit this step in the first instance\n",
    "\n",
    "# after all is done, you can switch the icon on the button to a \"check\" sign\n",
    "# and optionally disable the button - it won't be needed again. You can use icons\n",
    "# \"unlink\" or \"times\" and change the button text to \"Unavailable\" in case the \n",
    "# api call fails.\n",
    "apibutton.icon=\"check\"\n",
    "# apibutton.disabled=True\n",
    "\n",
    "    \n",
    "apibutton=wdg.Button(\n",
    "    description='Refresh data',\n",
    "    disabled=False,\n",
    "    button_style='',\n",
    "    tooltip='Click to download current Public Health England data',\n",
    "    icon='download' \n",
    "    )\n",
    "\n",
    "\n",
    "# remember to register your button callback function with the button\n",
    "apibutton.on_click(apibutton) # the name of your function inside these brackets\n",
    "\n",
    "display(apibutton)\n",
    "# run all cells before clicking on this button"
   ]
  },
  {
   "cell_type": "markdown",
   "metadata": {},
   "source": [
    "## Graphs and Analysis"
   ]
  },
  {
   "cell_type": "markdown",
   "metadata": {},
   "source": [
    "Here is an interactive graph between the new vaccines administered, hospitals and the cumulative deaths."
   ]
  },
  {
   "cell_type": "code",
   "execution_count": 10,
   "metadata": {},
   "outputs": [
    {
     "data": {
      "application/vnd.jupyter.widget-view+json": {
       "model_id": "e9a7e899e21543fd9c38925b91f13721",
       "version_major": 2,
       "version_minor": 0
      },
      "text/plain": [
       "HBox(children=(SelectMultiple(description='vaccines', index=(0, 1, 2), options=('new vaccines', 'hospital', 'c…"
      ]
     },
     "metadata": {},
     "output_type": "display_data"
    },
    {
     "data": {
      "application/vnd.jupyter.widget-view+json": {
       "model_id": "5e01d1fd58ac448f9a3af13cd43b268c",
       "version_major": 2,
       "version_minor": 0
      },
      "text/plain": [
       "Output()"
      ]
     },
     "metadata": {},
     "output_type": "display_data"
    }
   ],
   "source": [
    "\n",
    "\n",
    "\n",
    "vaccinescols=wdg.SelectMultiple(\n",
    "    options=['new vaccines', 'hospital', 'cumulative deaths'], \n",
    "    value=['new vaccines', 'hospital', 'cumulative deaths'], \n",
    "    rows=3,\n",
    "    description='vaccines',\n",
    "    disabled=False\n",
    ")\n",
    "\n",
    "def date_picker():\n",
    "    wdg.DatePicker(\n",
    "        description='Pick a Date',\n",
    "        disabled=False\n",
    "    )\n",
    "\n",
    "\n",
    "\n",
    "dates = vaccines_and_deathsdf.index.values\n",
    "\n",
    "options = [(str(date)[:10], date) for date in dates]\n",
    "index = (0, len(options)-1)\n",
    "\n",
    "selection_range_slider = wdg.SelectionRangeSlider(\n",
    "    options=options,\n",
    "    index=index,\n",
    "    description='Dates',\n",
    "    orientation='horizontal',\n",
    "    layout={'width': '600px'}\n",
    ")\n",
    "\n",
    "scale=wdg.RadioButtons(\n",
    "    options=['linear', 'log'],\n",
    "\n",
    "    description='Scale:',\n",
    "    disabled=False\n",
    ")\n",
    "\n",
    "\n",
    "controls1=wdg.HBox([vaccinescols, scale, selection_range_slider])\n",
    "\n",
    "def vaccines_to_deaths_graphs(graphcolumns, gdate, gscale):\n",
    "    \n",
    "    ncols=len(graphcolumns)\n",
    "    if gscale=='linear':\n",
    "        logscale=False\n",
    "    else:\n",
    "        logscale=True\n",
    "        \n",
    "    if ncols>0:\n",
    "        vaccines_and_deathsdf.loc[gdate[0]:gdate[1]].plot(logy=logscale, y=list(graphcolumns)) \n",
    "        plt.show() \n",
    "    else:\n",
    "        print(\"Click to select data for graph\")\n",
    "        print(\"(CTRL-Click to select more than one category)\")\n",
    "   \n",
    "    ncols=len(graphcolumns)\n",
    "output=wdg.interactive_output(vaccines_to_deaths_graphs, {'graphcolumns': vaccinescols, 'gdate': selection_range_slider, 'gscale': scale})\n",
    "display(controls1, output)\n",
    "\n",
    "\n",
    "def refresh_graph():\n",
    "    \"\"\" We change the value of the widget in order to force a redraw of the graph;\n",
    "    this is useful when the data have been updated. This is a bit of a gimmick; it\n",
    "    needs to be customised for one of your widgets. \"\"\"\n",
    "    current=vaccinescols.value\n",
    "    vaccinescols.value=() # forces the redraw\n",
    "    vaccinescols.value=current # now we can change it back\n"
   ]
  },
  {
   "cell_type": "code",
   "execution_count": null,
   "metadata": {},
   "outputs": [],
   "source": []
  },
  {
   "cell_type": "markdown",
   "metadata": {},
   "source": [
    "## Deploying the dashboard\n",
    "\n",
    "Once your code is ready and you are satisfied with the appearance of the graphs, replace all the text boxes above with the explanations you would like a dashboard user to see. The next step is deploying the dashboard online - there are several [options](https://voila.readthedocs.io/en/stable/deploy.html) for this, we suggest deploying as a [Binder](https://mybinder.org/). This is basically the same technique that has been used to package this tutorial and to deploy this template dashboard. The instructions may seem a bit involved, but the actual steps are surprisingly easy - we will be going through them together during a live session. You will need an account on [GitHub](https://github.com/) for this - if you don't have one already, now it's the time to create it. "
   ]
  },
  {
   "cell_type": "markdown",
   "metadata": {},
   "source": [
    "**Author and Copyright Notice** Remember if you deploy this dashboard as a Binder it will be publicly accessible. Take credit for your work! Also acknowledge your sources: Based on UK Government [data](https://coronavirus.data.gov.uk/) published by [Public Health England](https://www.gov.uk/government/organisations/public-health-england) and on the [DIY Covid Dashboard Kit](https://github.com/fsmeraldi/diy-covid19dash), Copyright (C) Fabrizio Smeraldi 2020,2023. Released under the [GNU GPLv3.0 or later](https://www.gnu.org/licenses/)."
   ]
  },
  {
   "cell_type": "code",
   "execution_count": null,
   "metadata": {},
   "outputs": [],
   "source": []
  },
  {
   "cell_type": "code",
   "execution_count": null,
   "metadata": {},
   "outputs": [],
   "source": []
  }
 ],
 "metadata": {
  "kernelspec": {
   "display_name": "Python 3 (ipykernel)",
   "language": "python",
   "name": "python3"
  },
  "language_info": {
   "codemirror_mode": {
    "name": "ipython",
    "version": 3
   },
   "file_extension": ".py",
   "mimetype": "text/x-python",
   "name": "python",
   "nbconvert_exporter": "python",
   "pygments_lexer": "ipython3",
   "version": "3.10.13"
  }
 },
 "nbformat": 4,
 "nbformat_minor": 4
}
